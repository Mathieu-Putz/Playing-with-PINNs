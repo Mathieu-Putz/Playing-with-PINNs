{
  "nbformat": 4,
  "nbformat_minor": 0,
  "metadata": {
    "colab": {
      "name": "Playing with PINNs - 1.ipynb",
      "provenance": [],
      "collapsed_sections": [],
      "authorship_tag": "ABX9TyM+FJELd8uD2MqvsOkpiqyd",
      "include_colab_link": true
    },
    "kernelspec": {
      "name": "python3",
      "display_name": "Python 3"
    },
    "language_info": {
      "name": "python"
    },
    "accelerator": "GPU"
  },
  "cells": [
    {
      "cell_type": "markdown",
      "metadata": {
        "id": "view-in-github",
        "colab_type": "text"
      },
      "source": [
        "<a href=\"https://colab.research.google.com/github/Mathieu-Putz/Playing-with-PINNs/blob/main/1%20-%20Simple%20exponential.ipynb\" target=\"_parent\"><img src=\"https://colab.research.google.com/assets/colab-badge.svg\" alt=\"Open In Colab\"/></a>"
      ]
    },
    {
      "cell_type": "code",
      "metadata": {
        "id": "W29fyhDJ1Q4y"
      },
      "source": [
        "import torch\n",
        "import torch.nn as nn\n",
        "import random\n",
        "import matplotlib.pyplot as plt\n",
        "import numpy as np  \n",
        "import sympy as sy\n",
        "from mpl_toolkits import mplot3d\n",
        "from matplotlib import cm\n",
        "from matplotlib.ticker import LinearLocator"
      ],
      "execution_count": null,
      "outputs": []
    },
    {
      "cell_type": "markdown",
      "metadata": {
        "id": "wrM9fuOpg4ao"
      },
      "source": [
        "# 1. Maximally simple first order ODE"
      ]
    },
    {
      "cell_type": "markdown",
      "metadata": {
        "id": "UMX-mkhy1XI0"
      },
      "source": [
        "Let's start by trying to find an approximate solution to the following (maximally simple) initial value problem, with an ODE:\n",
        "\n",
        "y'(t) = y(t)\n",
        "\n",
        "y(t=0) = 1\n",
        "\n",
        "For this system, we actually know the exact solution.\n",
        "y(t) = e^t\n",
        "\n",
        "Of course, we don't actually want to just use the exact solution; the whole point is to approximate it. But we can use it to generate \"datapoints\" at random points. \n",
        "\n"
      ]
    },
    {
      "cell_type": "code",
      "metadata": {
        "id": "Bg_eD_Eq6xSU"
      },
      "source": [
        "# let's define some random points between -5 and 5\n",
        "time_points = (torch.rand((100))-.5)*10\n",
        "time_points, _ = torch.sort(time_points)\n",
        "datapoints = torch.exp(time_points)"
      ],
      "execution_count": null,
      "outputs": []
    },
    {
      "cell_type": "markdown",
      "metadata": {
        "id": "GhgMuaIK6nA9"
      },
      "source": [
        "Let's call the predictions of our PINN y_pred_i.\n",
        "\n",
        "Now, we need to find a PINN that minimises the following loss:\n",
        "\n",
        "MSE = sum_over_i (( y_pred_i - y(t_i) )^2 + (y_pred_0 - 1)^2\n"
      ]
    },
    {
      "cell_type": "code",
      "metadata": {
        "id": "y-okoBjAWC2n"
      },
      "source": [
        "# Define the Neural Network:\n",
        "model = nn.Sequential(nn.Linear(1, 50), nn.ReLU(), nn.Linear(50,1))\n",
        "learning_rate = 1e-3"
      ],
      "execution_count": null,
      "outputs": []
    },
    {
      "cell_type": "code",
      "metadata": {
        "id": "xEl76QgF3rYz"
      },
      "source": [
        "# add lambda parameter for weight of different losses\n",
        "def loss(time_points, boundary_points, datapoints, boundary_values):\n",
        "  y_pred = model(time_points)\n",
        "  y_pred_boundary = model(boundary_points)\n",
        "  return torch.mean((y_pred - datapoints)**2) + 1* torch.mean((y_pred_boundary - boundary_values)**2)\n",
        "\n",
        "boundary_points = torch.tensor([0.0])\n",
        "boundary_values = torch.exp(boundary_points) \n",
        "#print(loss(time_points[:,None], boundary_points[:,None], datapoints[:,None], boundary_values[:,None]))"
      ],
      "execution_count": null,
      "outputs": []
    },
    {
      "cell_type": "code",
      "metadata": {
        "id": "852DiDGFCsXq"
      },
      "source": [
        "# Optimize \n",
        "optimizer = torch.optim.Adam(model.parameters(), lr = learning_rate)\n",
        "\n",
        "# The collocation points used by Lagaris\n",
        "\n",
        "x = time_points[:,None]\n",
        "\n",
        "# Run the optimizer\n",
        "def closure():\n",
        "    optimizer.zero_grad()\n",
        "    # In retrospect, I'm not sure adding [:,None] to each variable was necessary or whether it even made sense.\n",
        "    # Rather than trying to find out, I'm happy to notice that it worked well enough and move on to more interesting examples.\n",
        "    l = loss(time_points[:,None], boundary_points[:,None], datapoints[:,None], boundary_values[:,None])\n",
        "    l.backward()\n",
        "    return l\n",
        "#print(loss(time_points[:,None], boundary_points[:,None], datapoints[:,None], boundary_values[:,None]))\n",
        "for i in range(10000):\n",
        "    optimizer.step(closure)\n",
        "    # to observe the loss with number of iterations, uncomment following two lines:\n",
        "    #if i%300 ==299:\n",
        "    #  print(loss(time_points[:,None], boundary_points[:,None], datapoints[:,None], boundary_values[:,None]))"
      ],
      "execution_count": null,
      "outputs": []
    },
    {
      "cell_type": "markdown",
      "metadata": {
        "id": "aXhjoeSWbQOC"
      },
      "source": [
        "Plot the result:"
      ]
    },
    {
      "cell_type": "code",
      "metadata": {
        "id": "-5-04jbTHBIB",
        "colab": {
          "base_uri": "https://localhost:8080/",
          "height": 279
        },
        "outputId": "02f767a6-2be4-4d5a-cbc7-44427de53710"
      },
      "source": [
        "# Let's compare the result to the true solution\n",
        "time_points_np = time_points.numpy()\n",
        "datapoints_np = datapoints.numpy()\n",
        "y_pred_np     = model(time_points[:,None]).detach().numpy()\n",
        "\n",
        "\n",
        "\n",
        "fig, ax = plt.subplots()\n",
        "ax.plot(time_points_np, datapoints_np, label='True')\n",
        "ax.plot(time_points_np, y_pred_np, '--', label='Neural network approximation')\n",
        "ax.set_xlabel('$x$')\n",
        "ax.set_ylabel('$NN(x)$')\n",
        "plt.legend(loc='best');"
      ],
      "execution_count": null,
      "outputs": [
        {
          "output_type": "display_data",
          "data": {
            "image/png": "[encoded data removed]",
            "text/plain": [
              "<Figure size 432x288 with 1 Axes>"
            ]
          },
          "metadata": {
            "needs_background": "light"
          }
        }
      ]
    },
    {
      "cell_type": "markdown",
      "metadata": {
        "id": "dJYd8B5a2f0p"
      },
      "source": [
        "Looks good! This solution is highly imperfect. Network architecture and learning rate are more or less chosen randomly for instance and it's quite possible there may be other mistakes too. But instead of overoptimizing, let's move on to a slightly more complicated example."
      ]
    }
  ]
}