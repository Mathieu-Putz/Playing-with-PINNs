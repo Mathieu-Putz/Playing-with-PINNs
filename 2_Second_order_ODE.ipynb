{
  "nbformat": 4,
  "nbformat_minor": 0,
  "metadata": {
    "colab": {
      "name": "2 - Second order ODE.ipynb",
      "provenance": [],
      "collapsed_sections": [],
      "authorship_tag": "ABX9TyOPKn7m9WV7NynxIjFvCmMg",
      "include_colab_link": true
    },
    "kernelspec": {
      "name": "python3",
      "display_name": "Python 3"
    },
    "language_info": {
      "name": "python"
    },
    "accelerator": "GPU"
  },
  "cells": [
    {
      "cell_type": "markdown",
      "metadata": {
        "id": "view-in-github",
        "colab_type": "text"
      },
      "source": [
        "<a href=\"https://colab.research.google.com/github/Mathieu-Putz/Playing-with-PINNs/blob/main/2_Second_order_ODE.ipynb\" target=\"_parent\"><img src=\"https://colab.research.google.com/assets/colab-badge.svg\" alt=\"Open In Colab\"/></a>"
      ]
    },
    {
      "cell_type": "code",
      "metadata": {
        "id": "W29fyhDJ1Q4y"
      },
      "source": [
        "import torch\n",
        "import torch.nn as nn\n",
        "import random\n",
        "import matplotlib.pyplot as plt\n",
        "import numpy as np  \n",
        "import sympy as sy\n",
        "from mpl_toolkits import mplot3d\n",
        "from matplotlib import cm\n",
        "from matplotlib.ticker import LinearLocator"
      ],
      "execution_count": 1,
      "outputs": []
    },
    {
      "cell_type": "markdown",
      "metadata": {
        "id": "PqU506NJ26H0"
      },
      "source": [
        "# 2. Slightly more complicated: A second order ODE"
      ]
    },
    {
      "cell_type": "markdown",
      "metadata": {
        "id": "ZE7SWM8_3DmY"
      },
      "source": [
        "Let's try our hand at the following classical oscillation problem:\n",
        "\n",
        "y'' + y' + y = 0\n",
        "\n",
        "y(t=0) = 1\n",
        "\n",
        "y'(t=0) = 0\n",
        "\n",
        "Here too, the exact analytical solution is known, which we can again use as ground truth. The parameters are chosen such that the system is underdamped, i.e. we should get an oscillating wave whose amplitude declines within an exponential envelope. It takes the following form:\n",
        "\n",
        "y(t) = exp(-0.5*t) * 2A* cos( phi + t) \n",
        "\n",
        "where A = sqrt(5)/4 and phi = 2*Arctan( 2-sqrt(5) ) + 2*pi*n (let's choose n=0)\n",
        "\n",
        "Note: technically there's a second solution with a negative amplitude A, which we'll ignore here.\n",
        "\n",
        "The analytical expressions for the constants A and phi are quite involved.\n",
        "\n",
        "We now have two different boundary conditions and need to regularize for both.\n",
        "\n"
      ]
    },
    {
      "cell_type": "code",
      "metadata": {
        "id": "VWtUO9426QVh"
      },
      "source": [
        "time_points = torch.rand((100))*10\n",
        "time_points, _ = torch.sort(time_points)\n",
        "\n",
        "A = np.sqrt(5) /4 \n",
        "phi = 2*np.arctan(2-np.sqrt(5))\n",
        "\n",
        "datapoints = torch.exp(-0.5*time_points)*2*A*torch.cos(phi+time_points)\n",
        "\n",
        "# In this example the two boundaries, \n",
        "#  one for the value at a given point, \n",
        "#  the other for the derivative at a given point, \n",
        "# happen to coincide, but in principle, they could be different. \n",
        "boundary1 = torch.tensor([0.0])\n",
        "boundary2 = torch.tensor([0.0])\n",
        "\n",
        "boundary1_values = torch.tensor([1.0])\n",
        "boundary2_derivatives = torch.tensor([0.0]) \n"
      ],
      "execution_count": 2,
      "outputs": []
    },
    {
      "cell_type": "code",
      "metadata": {
        "id": "2h47NKNH6r3g"
      },
      "source": [
        "# Define the Neural Network:\n",
        "model = nn.Sequential(nn.Linear(1, 50), nn.ReLU(), nn.Linear(50,1))\n",
        "learning_rate = 1e-3\n",
        "\n",
        "# Loss function modified to take 2nd boundary condition into account.\n",
        "# add lambda parameters for weight of different losses\n",
        "def loss(time_points, boundary1, boundary2, datapoints, boundary1_values, boundary2_derivatives):  #last three arguments represent ground truth\n",
        "  y_pred = model(time_points)\n",
        "  y_pred_boundary1  = model(boundary1)\n",
        "  # How to get derivative of prediction?\n",
        "  # Approximate using two points that are very close to boundary2 point.\n",
        "  epsilon = 0.001\n",
        "  dy_pred_boundary2 = ( model(boundary2+epsilon) - model(boundary2 - epsilon) ) / (2*epsilon)  \n",
        "  return torch.mean((y_pred - datapoints)**2) + 1* torch.mean((y_pred_boundary1 - boundary1_values)**2) + 1* torch.mean((dy_pred_boundary2-boundary2_derivatives)**2)\n",
        "\n",
        "# Optimize\n",
        "optimizer = torch.optim.Adam(model.parameters(), lr = learning_rate)\n",
        "\n",
        "# Run the optimizer\n",
        "def closure():\n",
        "    optimizer.zero_grad()\n",
        "    # In retrospect, I'm not sure adding [:,None] to each variable was necessary or whether it even made sense.\n",
        "    # Rather than trying to find out, I'm happy to notice that it worked well enough and move on to more interesting examples.\n",
        "    l = loss(time_points[:,None], boundary1[:,None], boundary2[:,None], \n",
        "              datapoints[:,None], boundary1_values[:,None], boundary2_derivatives)\n",
        "    l.backward()\n",
        "    return l\n",
        "#print(loss(time_points[:,None], boundary_points[:,None], datapoints[:,None], boundary_values[:,None]))\n",
        "\n",
        "for i in range(100000):\n",
        "    optimizer.step(closure)\n",
        "    # to observe the loss with number of iterations, uncomment following two lines:\n",
        "    #if i%300 ==299:\n",
        "    #  print(loss(time_points[:,None], boundary_points[:,None], datapoints[:,None], boundary_values[:,None]))"
      ],
      "execution_count": 3,
      "outputs": []
    },
    {
      "cell_type": "code",
      "metadata": {
        "id": "ElKIUiLPRFjk",
        "colab": {
          "base_uri": "https://localhost:8080/",
          "height": 300
        },
        "outputId": "83095545-2145-43b6-d86c-13c87de856c7"
      },
      "source": [
        "# Let's compare the result to the true solution\n",
        "time_points_np = time_points.numpy()\n",
        "datapoints_np = datapoints.numpy()\n",
        "y_pred_np     = model(time_points[:,None]).detach().numpy()\n",
        "\n",
        "\n",
        "\n",
        "fig, ax = plt.subplots()\n",
        "ax.plot(time_points_np, datapoints_np, label='True')\n",
        "ax.plot(time_points_np, y_pred_np, '--', label='Neural network approximation')\n",
        "ax.set_xlabel('$x$')\n",
        "ax.set_ylabel('$NN(x)$')\n",
        "plt.legend(loc='best')"
      ],
      "execution_count": 4,
      "outputs": [
        {
          "output_type": "execute_result",
          "data": {
            "text/plain": [
              "<matplotlib.legend.Legend at 0x7f7bcd254990>"
            ]
          },
          "metadata": {},
          "execution_count": 4
        },
        {
          "output_type": "display_data",
          "data": {
            "image/png": "[encoded data removed]",
            "text/plain": [
              "<Figure size 432x288 with 1 Axes>"
            ]
          },
          "metadata": {
            "needs_background": "light"
          }
        }
      ]
    },
    {
      "cell_type": "markdown",
      "metadata": {
        "id": "is-JKQP2d9VL"
      },
      "source": [
        "The solution is visibly imperfect, but basically fits the curve, so I'll count this as a success. Again, there is a lot of room for improvement here, again all the hyperparameters were chosen arbitrarily, but I think this is good enough as a proof of concept. \n",
        "\n",
        "Let's move on to a PDE then!"
      ]
    },
    {
      "cell_type": "code",
      "metadata": {
        "id": "GA7OJv6OKKBH"
      },
      "source": [
        ""
      ],
      "execution_count": 4,
      "outputs": []
    }
  ]
}